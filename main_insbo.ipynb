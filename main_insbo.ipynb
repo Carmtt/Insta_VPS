{
 "cells": [
  {
   "cell_type": "code",
   "execution_count": 1,
   "metadata": {},
   "outputs": [],
   "source": [
    "import requests"
   ]
  },
  {
   "cell_type": "code",
   "execution_count": 2,
   "metadata": {},
   "outputs": [],
   "source": [
    "\n",
    "from instagrapi import Client"
   ]
  },
  {
   "cell_type": "code",
   "execution_count": 3,
   "metadata": {},
   "outputs": [],
   "source": [
    "from concurrent.futures import ThreadPoolExecutor"
   ]
  },
  {
   "cell_type": "code",
   "execution_count": 4,
   "metadata": {},
   "outputs": [],
   "source": [
    "proxy_to_acc = [\n",
    "    {\n",
    "        'proxy': '107.181.187.120:30642',\n",
    "        'email': 'karenshq5roberts@iralborz.bid',\n",
    "        'pswrd': 'WZOTieqa392'\n",
    "        },\n",
    "    {\n",
    "        'proxy': '107.181.187.120:30643',\n",
    "        'email': 'lauraxnnwtaylor@iralborz.bid',\n",
    "        'pswrd': 'IECOyhcs046'\n",
    "        },\n",
    "    {\n",
    "        'proxy': '107.181.187.120:30644',\n",
    "        'email': 'carolgemsmoore@iralborz.bid',\n",
    "        'pswrd': 'UEOEougz051'\n",
    "        },\n",
    "    {\n",
    "        'proxy': '107.181.187.120:30645',\n",
    "        'email': 'helens21pwilliams@iralborz.bid',\n",
    "        'pswrd': 'OPVEquat469'\n",
    "        },\n",
    "    {\n",
    "        'proxy': '107.181.187.120:30646',\n",
    "        'email': 'ronald6ixicollins@iralborz.bid',\n",
    "        'pswrd': 'IODEvooo748'\n",
    "        },\n",
    "    {\n",
    "        'proxy': '107.181.187.120:30647',\n",
    "        'email': 'donaldxlgtdavis@iralborz.bid',\n",
    "        'pswrd': 'YIRXloah034'\n",
    "        },\n",
    "    {\n",
    "        'proxy': '107.181.187.120:30648',\n",
    "        'email': 'barbaraxinojohnson@iralborz.bid',\n",
    "        'pswrd': 'ZUUJoviu881'\n",
    "        },\n",
    "    {\n",
    "        'proxy': '107.181.187.120:30649',\n",
    "        'email': 'paulwo6trobinson@iralborz.bid',\n",
    "        'pswrd': 'FXXKxdde764'\n",
    "        },\n",
    "    {\n",
    "        'proxy': '107.181.187.120:30650',\n",
    "        'email': 'jeffluz4harris@iralborz.bid',\n",
    "        'pswrd': 'QAMIauih271'\n",
    "        },\n",
    "    {\n",
    "        'proxy': '107.181.187.120:30651',\n",
    "        'email': 'kimberlywmiiwright@iralborz.bid',\n",
    "        'pswrd': 'YVWIeohp789'\n",
    "        },\n",
    "    {\n",
    "        'proxy': '107.181.187.120:30652',\n",
    "        'email': 'kimberlynw64harris@iralborz.bid',\n",
    "        'pswrd': 'LDGIiiaj303'\n",
    "        },\n",
    "    {\n",
    "        'proxy': '107.181.187.120:30653',\n",
    "        'email': 'brianvnqstaylor@iralborz.bid',\n",
    "        'pswrd': 'WIVAfimt523'\n",
    "        },\n",
    "    {\n",
    "        'proxy': '107.181.187.120:30654',\n",
    "        'email': 'helen11y3thomas@iralborz.bid',\n",
    "        'pswrd': 'ZOHLjtzz510'\n",
    "        },\n",
    "    {\n",
    "        'proxy': '107.181.187.120:30655',\n",
    "        'email': 'davidxoxtroberts@iralborz.bid',\n",
    "        'pswrd': 'ANUZaeue381'\n",
    "        },\n",
    "    {\n",
    "        'proxy': '107.181.187.120:30656',\n",
    "        'email': 'brianamtqharris@iralborz.bid',\n",
    "        'pswrd': 'BXQEoguw046'\n",
    "        },\n",
    "    {\n",
    "        'proxy': '107.181.187.120:30657',\n",
    "        'email': 'mariajic1martinez@iralborz.bid',\n",
    "        'pswrd': 'ENUAuivm405'\n",
    "        },\n",
    "    {\n",
    "        'proxy': '107.181.187.120:30658',\n",
    "        'email': 'maria00kdcampbell@iralborz.bid',\n",
    "        'pswrd': 'GTIEypcc689'\n",
    "        },\n",
    "    {\n",
    "        'proxy': '107.181.187.120:30659',\n",
    "        'email': 'michaelr0dxcampbell@iralborz.bid',\n",
    "        'pswrd': 'UCIOepua271'\n",
    "        },\n",
    "    {\n",
    "        'proxy': '107.181.187.120:30660',\n",
    "        'email': 'michael6c0jcollins@iralborz.bid',\n",
    "        'pswrd': 'DTUAwlol183'\n",
    "        },\n",
    "    {\n",
    "        'proxy': '107.181.187.120:30661',\n",
    "        'email': 'sandrahilgmoore@iralborz.bid',\n",
    "        'pswrd': 'IAADiexu660'\n",
    "        }\n",
    "]"
   ]
  },
  {
   "cell_type": "code",
   "execution_count": 5,
   "metadata": {},
   "outputs": [
    {
     "data": {
      "text/plain": [
       "[{'client': <instagrapi.Client at 0xfa392bde50>,\n",
       "  'attr': {'proxy': '107.181.187.120:30642',\n",
       "   'email': 'karenshq5roberts@iralborz.bid',\n",
       "   'pswrd': 'WZOTieqa392'}},\n",
       " {'client': <instagrapi.Client at 0xfa392bdd00>,\n",
       "  'attr': {'proxy': '107.181.187.120:30643',\n",
       "   'email': 'lauraxnnwtaylor@iralborz.bid',\n",
       "   'pswrd': 'IECOyhcs046'}},\n",
       " {'client': <instagrapi.Client at 0xfa392df5e0>,\n",
       "  'attr': {'proxy': '107.181.187.120:30644',\n",
       "   'email': 'carolgemsmoore@iralborz.bid',\n",
       "   'pswrd': 'UEOEougz051'}},\n",
       " {'client': <instagrapi.Client at 0xfa392dfdf0>,\n",
       "  'attr': {'proxy': '107.181.187.120:30645',\n",
       "   'email': 'helens21pwilliams@iralborz.bid',\n",
       "   'pswrd': 'OPVEquat469'}},\n",
       " {'client': <instagrapi.Client at 0xfa392ed640>,\n",
       "  'attr': {'proxy': '107.181.187.120:30646',\n",
       "   'email': 'ronald6ixicollins@iralborz.bid',\n",
       "   'pswrd': 'IODEvooo748'}},\n",
       " {'client': <instagrapi.Client at 0xfa392ede50>,\n",
       "  'attr': {'proxy': '107.181.187.120:30647',\n",
       "   'email': 'donaldxlgtdavis@iralborz.bid',\n",
       "   'pswrd': 'YIRXloah034'}},\n",
       " {'client': <instagrapi.Client at 0xfa392f86a0>,\n",
       "  'attr': {'proxy': '107.181.187.120:30648',\n",
       "   'email': 'barbaraxinojohnson@iralborz.bid',\n",
       "   'pswrd': 'ZUUJoviu881'}},\n",
       " {'client': <instagrapi.Client at 0xfa392f8eb0>,\n",
       "  'attr': {'proxy': '107.181.187.120:30649',\n",
       "   'email': 'paulwo6trobinson@iralborz.bid',\n",
       "   'pswrd': 'FXXKxdde764'}},\n",
       " {'client': <instagrapi.Client at 0xfa39303700>,\n",
       "  'attr': {'proxy': '107.181.187.120:30650',\n",
       "   'email': 'jeffluz4harris@iralborz.bid',\n",
       "   'pswrd': 'QAMIauih271'}},\n",
       " {'client': <instagrapi.Client at 0xfa39303f10>,\n",
       "  'attr': {'proxy': '107.181.187.120:30651',\n",
       "   'email': 'kimberlywmiiwright@iralborz.bid',\n",
       "   'pswrd': 'YVWIeohp789'}},\n",
       " {'client': <instagrapi.Client at 0xfa3930c760>,\n",
       "  'attr': {'proxy': '107.181.187.120:30652',\n",
       "   'email': 'kimberlynw64harris@iralborz.bid',\n",
       "   'pswrd': 'LDGIiiaj303'}},\n",
       " {'client': <instagrapi.Client at 0xfa3930cf70>,\n",
       "  'attr': {'proxy': '107.181.187.120:30653',\n",
       "   'email': 'brianvnqstaylor@iralborz.bid',\n",
       "   'pswrd': 'WIVAfimt523'}},\n",
       " {'client': <instagrapi.Client at 0xfa393137c0>,\n",
       "  'attr': {'proxy': '107.181.187.120:30654',\n",
       "   'email': 'helen11y3thomas@iralborz.bid',\n",
       "   'pswrd': 'ZOHLjtzz510'}},\n",
       " {'client': <instagrapi.Client at 0xfa39313fd0>,\n",
       "  'attr': {'proxy': '107.181.187.120:30655',\n",
       "   'email': 'davidxoxtroberts@iralborz.bid',\n",
       "   'pswrd': 'ANUZaeue381'}},\n",
       " {'client': <instagrapi.Client at 0xfa39322820>,\n",
       "  'attr': {'proxy': '107.181.187.120:30656',\n",
       "   'email': 'brianamtqharris@iralborz.bid',\n",
       "   'pswrd': 'BXQEoguw046'}},\n",
       " {'client': <instagrapi.Client at 0xfa39322f10>,\n",
       "  'attr': {'proxy': '107.181.187.120:30657',\n",
       "   'email': 'mariajic1martinez@iralborz.bid',\n",
       "   'pswrd': 'ENUAuivm405'}},\n",
       " {'client': <instagrapi.Client at 0xfa3932c880>,\n",
       "  'attr': {'proxy': '107.181.187.120:30658',\n",
       "   'email': 'maria00kdcampbell@iralborz.bid',\n",
       "   'pswrd': 'GTIEypcc689'}},\n",
       " {'client': <instagrapi.Client at 0xfa3932cf70>,\n",
       "  'attr': {'proxy': '107.181.187.120:30659',\n",
       "   'email': 'michaelr0dxcampbell@iralborz.bid',\n",
       "   'pswrd': 'UCIOepua271'}},\n",
       " {'client': <instagrapi.Client at 0xfa393338e0>,\n",
       "  'attr': {'proxy': '107.181.187.120:30660',\n",
       "   'email': 'michael6c0jcollins@iralborz.bid',\n",
       "   'pswrd': 'DTUAwlol183'}},\n",
       " {'client': <instagrapi.Client at 0xfa39333fd0>,\n",
       "  'attr': {'proxy': '107.181.187.120:30661',\n",
       "   'email': 'sandrahilgmoore@iralborz.bid',\n",
       "   'pswrd': 'IAADiexu660'}}]"
      ]
     },
     "execution_count": 5,
     "metadata": {},
     "output_type": "execute_result"
    }
   ],
   "source": [
    "clients = [ {'client': Client(), 'attr': proxy } for proxy in proxy_to_acc ]\n",
    "clients"
   ]
  },
  {
   "cell_type": "code",
   "execution_count": 10,
   "metadata": {},
   "outputs": [
    {
     "name": "stdout",
     "output_type": "stream",
     "text": [
      "trying... 107.181.187.120:30642\n",
      "trying... 107.181.187.120:30643\n",
      "trying... 107.181.187.120:30644\n",
      "trying... 107.181.187.120:30645\n",
      "trying... 107.181.187.120:30646\n",
      "trying... trying...107.181.187.120:30647trying...\n",
      "  107.181.187.120:30649\n",
      "trying... 107.181.187.120:30650\n",
      "107.181.187.120:30648\n",
      "trying... 107.181.187.120:30651\n",
      "trying...trying... 107.181.187.120:30652\n",
      " 107.181.187.120:30653\n",
      "trying... 107.181.187.120:30654\n",
      "trying... 107.181.187.120:30655\n",
      "trying...107.181.187.120:30644 failed\n",
      "trying... 107.181.187.120:30657\n",
      "trying...  107.181.187.120:30656trying... 107.181.187.120:30659\n",
      "\n",
      "107.181.187.120:30658\n",
      "trying... 107.181.187.120:30660\n"
     ]
    },
    {
     "name": "stderr",
     "output_type": "stream",
     "text": [
      "Status 429: Too many requests\n",
      "Ignore 429: Continue login\n",
      "Status 429: Too many requests\n",
      "Ignore 429: Continue login\n",
      "Status 429: Too many requests\n",
      "Ignore 429: Continue login\n",
      "Status 429: Too many requests\n",
      "Ignore 429: Continue login\n"
     ]
    },
    {
     "name": "stdout",
     "output_type": "stream",
     "text": [
      "trying... 107.181.187.120:30661\n",
      "107.181.187.120:30647 failed\n",
      "107.181.187.120:30649 failed\n",
      "107.181.187.120:30646 failed\n",
      "107.181.187.120:30652 failed\n",
      "107.181.187.120:30654 failed\n",
      "107.181.187.120:30657 failed\n",
      "107.181.187.120:30643 failed\n"
     ]
    },
    {
     "name": "stderr",
     "output_type": "stream",
     "text": [
      "Status 429: Too many requests\n",
      "Ignore 429: Continue login\n",
      "Status 429: Too many requests\n",
      "Ignore 429: Continue login\n",
      "Status 429: Too many requests\n",
      "Ignore 429: Continue login\n",
      "Status 429: Too many requests\n",
      "Ignore 429: Continue login\n",
      "Status 429: Too many requests\n",
      "Ignore 429: Continue login\n",
      "Status 429: Too many requests\n",
      "Ignore 429: Continue login\n",
      "Status 429: Too many requests\n",
      "Ignore 429: Continue login\n",
      "Status 429: Too many requests\n",
      "Ignore 429: Continue login\n"
     ]
    },
    {
     "name": "stdout",
     "output_type": "stream",
     "text": [
      "107.181.187.120:30645 failed\n",
      "107.181.187.120:30648 failed\n"
     ]
    },
    {
     "name": "stderr",
     "output_type": "stream",
     "text": [
      "Status 429: Too many requests\n",
      "Ignore 429: Continue login\n"
     ]
    },
    {
     "name": "stdout",
     "output_type": "stream",
     "text": [
      "107.181.187.120:30660107.181.187.120:30650 failed\n",
      " failed\n",
      "107.181.187.120:30661 failed\n",
      "107.181.187.120:30659 successful\n",
      "107.181.187.120:30651 successful\n",
      "107.181.187.120:30653 successful\n",
      "107.181.187.120:30655 failed\n",
      "107.181.187.120:30656 failed\n",
      "107.181.187.120:30642 failed\n",
      "107.181.187.120:30658 failed\n"
     ]
    }
   ],
   "source": [
    "\n",
    "success_Clients = []\n",
    "\n",
    "def set_proxy_and_login(client):\n",
    "    print('trying...', client['attr']['proxy'])\n",
    "    try:\n",
    "        client['client'].set_proxy(client['attr']['proxy'])\n",
    "        client['client'].login(client['attr']['email'], client['attr']['pswrd'])#, True, 'Ru.kr')\n",
    "        success_Clients.append(client)\n",
    "        print(client['attr']['proxy'], 'successful')\n",
    "    except: print(client['attr']['proxy'], 'failed')\n",
    "\n",
    "with ThreadPoolExecutor(max_workers=20) as TPE:\n",
    "    TPE.map(set_proxy_and_login, clients)\n"
   ]
  },
  {
   "cell_type": "code",
   "execution_count": 11,
   "metadata": {},
   "outputs": [
    {
     "data": {
      "text/plain": [
       "3"
      ]
     },
     "execution_count": 11,
     "metadata": {},
     "output_type": "execute_result"
    }
   ],
   "source": [
    "len(success_Clients)"
   ]
  },
  {
   "cell_type": "code",
   "execution_count": 8,
   "metadata": {},
   "outputs": [
    {
     "name": "stdout",
     "output_type": "stream",
     "text": [
      "trying... 107.181.187.120:30642\n",
      "107.181.187.120:30642 failed\n",
      "trying... 107.181.187.120:30643\n"
     ]
    },
    {
     "name": "stderr",
     "output_type": "stream",
     "text": [
      "Status 429: Too many requests\n",
      "Ignore 429: Continue login\n"
     ]
    },
    {
     "name": "stdout",
     "output_type": "stream",
     "text": [
      "107.181.187.120:30643 failed\n",
      "trying... 107.181.187.120:30644\n",
      "107.181.187.120:30644 failed\n",
      "trying... 107.181.187.120:30645\n"
     ]
    },
    {
     "name": "stderr",
     "output_type": "stream",
     "text": [
      "Status 429: Too many requests\n",
      "Ignore 429: Continue login\n"
     ]
    },
    {
     "name": "stdout",
     "output_type": "stream",
     "text": [
      "107.181.187.120:30645 failed\n",
      "trying... 107.181.187.120:30646\n",
      "107.181.187.120:30646 failed\n",
      "trying... 107.181.187.120:30647\n"
     ]
    },
    {
     "name": "stderr",
     "output_type": "stream",
     "text": [
      "Status 429: Too many requests\n",
      "Ignore 429: Continue login\n"
     ]
    },
    {
     "name": "stdout",
     "output_type": "stream",
     "text": [
      "107.181.187.120:30647 failed\n",
      "trying... 107.181.187.120:30648\n"
     ]
    },
    {
     "name": "stderr",
     "output_type": "stream",
     "text": [
      "Status 429: Too many requests\n",
      "Ignore 429: Continue login\n"
     ]
    },
    {
     "name": "stdout",
     "output_type": "stream",
     "text": [
      "107.181.187.120:30648 failed\n",
      "trying... 107.181.187.120:30649\n",
      "107.181.187.120:30649 failed\n",
      "trying... 107.181.187.120:30650\n",
      "107.181.187.120:30650 failed\n",
      "trying... 107.181.187.120:30651\n"
     ]
    },
    {
     "name": "stderr",
     "output_type": "stream",
     "text": [
      "Status 429: Too many requests\n",
      "Ignore 429: Continue login\n"
     ]
    },
    {
     "name": "stdout",
     "output_type": "stream",
     "text": [
      "107.181.187.120:30651 failed\n",
      "trying... 107.181.187.120:30652\n",
      "107.181.187.120:30652 failed\n",
      "trying... 107.181.187.120:30653\n",
      "107.181.187.120:30653 failed\n",
      "trying... 107.181.187.120:30654\n",
      "107.181.187.120:30654 failed\n",
      "trying... 107.181.187.120:30655\n"
     ]
    },
    {
     "name": "stderr",
     "output_type": "stream",
     "text": [
      "Status 429: Too many requests\n",
      "Ignore 429: Continue login\n"
     ]
    },
    {
     "name": "stdout",
     "output_type": "stream",
     "text": [
      "107.181.187.120:30655 failed\n",
      "trying... 107.181.187.120:30656\n"
     ]
    },
    {
     "name": "stderr",
     "output_type": "stream",
     "text": [
      "Status 429: Too many requests\n",
      "Ignore 429: Continue login\n"
     ]
    },
    {
     "name": "stdout",
     "output_type": "stream",
     "text": [
      "107.181.187.120:30656 failed\n",
      "trying... 107.181.187.120:30657\n",
      "107.181.187.120:30657 failed\n",
      "trying... 107.181.187.120:30658\n",
      "107.181.187.120:30658 failed\n",
      "trying... 107.181.187.120:30659\n"
     ]
    },
    {
     "name": "stderr",
     "output_type": "stream",
     "text": [
      "Status 429: Too many requests\n",
      "Ignore 429: Continue login\n"
     ]
    },
    {
     "name": "stdout",
     "output_type": "stream",
     "text": [
      "107.181.187.120:30659 failed\n",
      "trying... 107.181.187.120:30660\n"
     ]
    },
    {
     "name": "stderr",
     "output_type": "stream",
     "text": [
      "Status 429: Too many requests\n",
      "Ignore 429: Continue login\n"
     ]
    },
    {
     "name": "stdout",
     "output_type": "stream",
     "text": [
      "107.181.187.120:30660 failed\n",
      "trying... 107.181.187.120:30661\n"
     ]
    },
    {
     "name": "stderr",
     "output_type": "stream",
     "text": [
      "Status 429: Too many requests\n",
      "Ignore 429: Continue login\n"
     ]
    },
    {
     "name": "stdout",
     "output_type": "stream",
     "text": [
      "107.181.187.120:30661 failed\n"
     ]
    }
   ],
   "source": [
    "success_Clients = []\n",
    "\n",
    "for client in clients:\n",
    "    print('trying...', client['attr']['proxy'])\n",
    "    try:\n",
    "        client['client'].set_proxy(client['attr']['proxy'])\n",
    "        print(client['client'].login(client['attr']['email'], client['attr']['pswrd']))#, True, 'Ru.kr'))\n",
    "        success_Clients.append(client)\n",
    "        print(client['attr']['proxy'], 'successful')\n",
    "            \n",
    "    except: print(client['attr']['proxy'], 'failed')\n"
   ]
  },
  {
   "cell_type": "code",
   "execution_count": 9,
   "metadata": {},
   "outputs": [
    {
     "data": {
      "text/plain": [
       "0"
      ]
     },
     "execution_count": 9,
     "metadata": {},
     "output_type": "execute_result"
    }
   ],
   "source": [
    "len(success_Clients)"
   ]
  },
  {
   "cell_type": "code",
   "execution_count": 16,
   "metadata": {},
   "outputs": [],
   "source": [
    "acc_Ids = ['173560420', '12281817', '427553890', '232192182', '460563723', '7719696', '18428658', '247944034', '6860189', '208560325', '6380930', '787132', '11830955', '13460080', '305701719', '110567', '451573056', '26669533', '145821237', '325734299', '407964088', '6590609', '9777455', '189393625', '1436859892', '25945306', '18918467', '19410587', '290023231', '260375673', '29394004', '14455831', '28527810', '1269788896', '1287006597', '12331195', '528817151', '178537482', '20788692', '8012033210', '12995776', '217867189', '3416684', '186904952', '296102572', '243103112', '779085683', '1574083', '212742998']\n",
    "to_be_scraped = []"
   ]
  },
  {
   "cell_type": "code",
   "execution_count": null,
   "metadata": {},
   "outputs": [],
   "source": [
    "volunteer = Client()\n",
    "j=0\n",
    "while j < len(acc_Ids):\n",
    "    for i, client in enumerate(success_Clients):\n",
    "        try:\n",
    "            user_Info = client['client'].user_info(acc_Ids[i+j])\n",
    "            # print(user_Info, end='\\n\\n\\n')\n",
    "            followers = client['client'].user_followers(acc_Ids[i+j], amount=500)\n",
    "            print(followers)\n",
    "            to_be_scraped.extend(followers)\n",
    "        except: pass\n",
    "    print(to_be_scraped)\n",
    "    try:\n",
    "        with open('temp.txt', 'a') as f: f.write('\\n'.join(to_be_scraped))\n",
    "    except:pass\n",
    "    j+=len(success_Clients)"
   ]
  },
  {
   "cell_type": "code",
   "execution_count": 17,
   "metadata": {},
   "outputs": [],
   "source": [
    "fields = ['account_type', 'pk', 'username', 'full_name', 'is_private', 'follower_count', 'following_count', 'is_business', 'public_email', 'contact_phone_number', 'business_contact_method', 'business_category_name', 'category_name', 'biography']"
   ]
  },
  {
   "cell_type": "code",
   "execution_count": 18,
   "metadata": {},
   "outputs": [],
   "source": [
    "with open('temp.txt') as f: data = f.read()"
   ]
  },
  {
   "cell_type": "code",
   "execution_count": 19,
   "metadata": {},
   "outputs": [],
   "source": [
    "to_be_scraped = list(set(data.split('\\n')+acc_Ids))"
   ]
  },
  {
   "cell_type": "code",
   "execution_count": 20,
   "metadata": {},
   "outputs": [
    {
     "data": {
      "text/plain": [
       "15591"
      ]
     },
     "execution_count": 20,
     "metadata": {},
     "output_type": "execute_result"
    }
   ],
   "source": [
    "len(to_be_scraped)"
   ]
  },
  {
   "cell_type": "code",
   "execution_count": 21,
   "metadata": {},
   "outputs": [],
   "source": [
    "dataCount = len(to_be_scraped)\n",
    "max_workers = 500\n",
    "clients = success_Clients * (max_workers // len(success_Clients) + 1)\n",
    "fields : list = ['account_type', 'pk', 'username', 'full_name', 'is_private', 'follower_count', 'following_count', 'is_business', 'public_email', 'contact_phone_number', 'business_contact_method', 'business_category_name', 'category_name']"
   ]
  },
  {
   "cell_type": "code",
   "execution_count": 22,
   "metadata": {},
   "outputs": [],
   "source": [
    "client_data_units = []\n",
    "dataPerWorker = dataCount//max_workers+1\n",
    "\n",
    "for i in range(max_workers):\n",
    "    client_data_units.append((\n",
    "        success_Clients[i%len(success_Clients)]['client'],\n",
    "        to_be_scraped[dataPerWorker*i : dataPerWorker*(i+1)]\n",
    "        ))"
   ]
  },
  {
   "cell_type": "code",
   "execution_count": 23,
   "metadata": {},
   "outputs": [],
   "source": [
    "from time import sleep\n",
    "from random import randint\n",
    "f = open('userdata.txt', 'a')\n",
    "\n",
    "def extract_user_info(client__user_Ids):\n",
    "    users_data = []\n",
    "    try:\n",
    "        for i, user_ID in enumerate(client__user_Ids[1]):\n",
    "            try:\n",
    "                print(f'extracting {user_ID}...')\n",
    "                data = client__user_Ids[0].user_info(user_ID)\n",
    "                try:users_data.append(data)\n",
    "                except:pass\n",
    "                finalD = [data.get(field, '') for field in fields]\n",
    "                print(f'writing {user_ID}...')\n",
    "                f.write(','.join(finalD) + '\\n')\n",
    "                print('done')\n",
    "                \n",
    "                if i%50 and i:\n",
    "                    print('sleeping')\n",
    "                    sleep(randint(0,5))\n",
    "            except: pass\n",
    "        \n",
    "        return users_data\n",
    "    except: return users_data"
   ]
  },
  {
   "cell_type": "code",
   "execution_count": 24,
   "metadata": {},
   "outputs": [
    {
     "name": "stdout",
     "output_type": "stream",
     "text": [
      "extracting 51326496443...\n",
      "extracting 51309161426...\n",
      "extracting 1394929653...\n",
      "extracting 5382906017...\n",
      "extracting 51249103921...\n",
      "extracting 45854577201...\n"
     ]
    },
    {
     "name": "stderr",
     "output_type": "stream",
     "text": [
      "Status 404: Endpoint /v1/users/51326496443/info/ does not exists\n"
     ]
    },
    {
     "name": "stdout",
     "output_type": "stream",
     "text": [
      "extracting 46718960121...\n",
      "extracting 30564580873...\n",
      "extracting 51271398095...\n",
      "extracting 51658882397...\n",
      "extracting 48346328516...\n",
      "extracting 8611111149...\n",
      "extracting 51091847982...\n",
      "extracting 51630066531...\n",
      "extracting 51263100786...\n",
      "extracting 51194369516...\n",
      "extracting 51308201917...\n"
     ]
    },
    {
     "name": "stderr",
     "output_type": "stream",
     "text": [
      "Status 404: Endpoint /v1/users/51263100786/info/ does not exists\n"
     ]
    },
    {
     "name": "stdout",
     "output_type": "stream",
     "text": [
      "extracting 51291716050...\n",
      "extracting 5336686430...\n",
      "extracting 28270796292...\n",
      "extracting 51447895040...\n",
      "extracting 38111570284...\n"
     ]
    },
    {
     "name": "stderr",
     "output_type": "stream",
     "text": [
      "int() argument must be a string, a bytes-like object or a number, not 'NoneType'\n",
      "Traceback (most recent call last):\n",
      "  File \"C:\\Users\\Administrator\\AppData\\Local\\Programs\\Python\\Python39\\lib\\site-packages\\instagrapi\\mixins\\user.py\", line 270, in user_info\n",
      "    user = self.user_info_gql(user_id)\n",
      "  File \"C:\\Users\\Administrator\\AppData\\Local\\Programs\\Python\\Python39\\lib\\site-packages\\instagrapi\\mixins\\user.py\", line 220, in user_info_gql\n",
      "    self.username_from_user_id_gql(user_id)\n",
      "  File \"C:\\Users\\Administrator\\AppData\\Local\\Programs\\Python\\Python39\\lib\\site-packages\\instagrapi\\mixins\\user.py\", line 100, in username_from_user_id_gql\n",
      "    return self.user_short_gql(user_id).username\n",
      "  File \"C:\\Users\\Administrator\\AppData\\Local\\Programs\\Python\\Python39\\lib\\site-packages\\instagrapi\\mixins\\user.py\", line 73, in user_short_gql\n",
      "    data = self.public_graphql_request(\n",
      "  File \"C:\\Users\\Administrator\\AppData\\Local\\Programs\\Python\\Python39\\lib\\site-packages\\instagrapi\\mixins\\public.py\", line 210, in public_graphql_request\n",
      "    body_json = self.public_request(\n",
      "  File \"C:\\Users\\Administrator\\AppData\\Local\\Programs\\Python\\Python39\\lib\\site-packages\\instagrapi\\mixins\\public.py\", line 72, in public_request\n",
      "    return self._send_public_request(url, **kwargs)\n",
      "  File \"C:\\Users\\Administrator\\AppData\\Local\\Programs\\Python\\Python39\\lib\\site-packages\\instagrapi\\mixins\\public.py\", line 106, in _send_public_request\n",
      "    expected_length = int(response.headers.get(\"Content-Length\"))\n",
      "TypeError: int() argument must be a string, a bytes-like object or a number, not 'NoneType'\n"
     ]
    },
    {
     "name": "stdout",
     "output_type": "stream",
     "text": [
      "extracting 51615062626...\n"
     ]
    },
    {
     "name": "stderr",
     "output_type": "stream",
     "text": [
      "Status 404: Endpoint /v1/users/51447895040/info/ does not exists\n"
     ]
    },
    {
     "name": "stdout",
     "output_type": "stream",
     "text": [
      "extracting 51100334573...\n",
      "extracting 51637036624...\n",
      "extracting 51484465418...\n"
     ]
    },
    {
     "name": "stderr",
     "output_type": "stream",
     "text": [
      "Status 404: Endpoint /v1/users/51100334573/info/ does not exists\n"
     ]
    },
    {
     "name": "stdout",
     "output_type": "stream",
     "text": [
      "extracting 15631530666...\n"
     ]
    },
    {
     "name": "stderr",
     "output_type": "stream",
     "text": [
      "Status 404: Endpoint /v1/users/51637036624/info/ does not exists\n"
     ]
    },
    {
     "name": "stdout",
     "output_type": "stream",
     "text": [
      "extracting 51629773269...\n",
      "extracting 51678040395...\n",
      "extracting 51099558944...\n",
      "extracting 41005764701...\n",
      "extracting 47011881397...\n",
      "extracting 51265494458...\n",
      "extracting 51461893303...\n",
      "extracting 51295123713...\n",
      "extracting 51462229193...\n",
      "extracting 51483729419...\n",
      "extracting 51608559148...\n",
      "extracting 51667232926...\n",
      "extracting 51267878297...\n",
      "extracting 50072815159...\n",
      "extracting 51299369735...\n",
      "extracting 13033883751...\n",
      "extracting 51263326918...\n",
      "extracting 51281541350...\n",
      "extracting 31015023564...\n",
      "extracting 12053362218...\n",
      "extracting 51093679225...\n",
      "extracting 51307434347...\n",
      "extracting 51463389116...\n"
     ]
    },
    {
     "name": "stderr",
     "output_type": "stream",
     "text": [
      "Status 404: Endpoint /v1/users/51093679225/info/ does not exists\n"
     ]
    },
    {
     "name": "stdout",
     "output_type": "stream",
     "text": [
      "extracting 51288068895...\n",
      "extracting 7712573475...\n",
      "extracting 51448038859...\n",
      "extracting 49308212733...\n",
      "extracting 51152924366...\n",
      "extracting 51480233723...\n",
      "extracting 44716265441...\n",
      "extracting 50324847273...\n",
      "extracting 51642507702...\n",
      "extracting 426734878...\n",
      "extracting 51471644284...\n",
      "extracting 51472772094...\n",
      "extracting 51450471019...\n",
      "extracting 51455462199...\n",
      "extracting 51292068089...\n",
      "extracting 51444775546...\n",
      "extracting 51641300246...\n",
      "extracting 51614846594...\n",
      "extracting 51470603550...\n",
      "extracting 51603447594...\n"
     ]
    },
    {
     "name": "stderr",
     "output_type": "stream",
     "text": [
      "Status 404: Endpoint /v1/users/51614846594/info/ does not exists\n"
     ]
    },
    {
     "name": "stdout",
     "output_type": "stream",
     "text": [
      "extracting 51254391574...\n",
      "extracting 50811435691...\n",
      "extracting 51317905697...\n"
     ]
    },
    {
     "name": "stderr",
     "output_type": "stream",
     "text": [
      "Status 404: Endpoint /v1/users/51603447594/info/ does not exists\n"
     ]
    },
    {
     "name": "stdout",
     "output_type": "stream",
     "text": [
      "extracting 51273957930...\n",
      "extracting 51248639998...\n"
     ]
    },
    {
     "name": "stderr",
     "output_type": "stream",
     "text": [
      "Status 404: Endpoint /v1/users/51273957930/info/ does not exists\n"
     ]
    },
    {
     "name": "stdout",
     "output_type": "stream",
     "text": [
      "extracting 38474327139...\n",
      "extracting 51270390088...\n",
      "extracting 51308962300...\n"
     ]
    },
    {
     "name": "stderr",
     "output_type": "stream",
     "text": [
      "Status 404: Endpoint /v1/users/51248639998/info/ does not exists\n"
     ]
    },
    {
     "name": "stdout",
     "output_type": "stream",
     "text": [
      "extracting 51669425246...\n",
      "extracting 51166221234...\n",
      "extracting 26738453880...\n",
      "extracting 51464844939...\n",
      "extracting 51674776763...\n",
      "extracting 51281125347...\n",
      "extracting 51670369180...\n",
      "extracting 51472515688...\n",
      "extracting 51632332999...\n",
      "extracting 51444159595...\n",
      "extracting 51277229639...\n",
      "extracting 51610014978...\n",
      "extracting 51616446512...\n",
      "extracting 51669137287...\n",
      "extracting 51620429967...\n",
      "extracting 473719325...\n",
      "extracting 51249039880...\n",
      "extracting 28211320976...\n",
      "extracting 51461285237...\n",
      "extracting 51471572480...\n",
      "extracting 51292915826...\n",
      "extracting 37704439143...\n",
      "extracting 51300803242...\n",
      "extracting 51468140499...\n"
     ]
    },
    {
     "name": "stderr",
     "output_type": "stream",
     "text": [
      "Status 404: Endpoint /v1/users/51471572480/info/ does not exists\n"
     ]
    },
    {
     "name": "stdout",
     "output_type": "stream",
     "text": [
      "extracting 50808938546...\n",
      "extracting 51252103682...\n",
      "extracting 51466564800...\n",
      "extracting 47839977561...\n",
      "extracting 51649595445...\n",
      "extracting 49983603141...\n",
      "extracting 51274309757...\n",
      "extracting 51287612491...\n",
      "extracting 48512117931...\n",
      "extracting 49083837450...\n",
      "extracting 51664633636...\n",
      "extracting 43447709046...\n",
      "extracting 51662945752...\n",
      "extracting 51653482853...\n",
      "extracting 51665929080...\n",
      "extracting 51323585076...\n",
      "extracting 49589613319...\n",
      "extracting 12119708816...\n",
      "extracting 51274877562...\n",
      "extracting 51445766979...\n",
      "extracting 51481825456...\n"
     ]
    },
    {
     "name": "stderr",
     "output_type": "stream",
     "text": [
      "Status 404: Endpoint /v1/users/51274877562/info/ does not exists\n"
     ]
    },
    {
     "name": "stdout",
     "output_type": "stream",
     "text": [
      "extracting 49263012413...\n",
      "extracting 51606991280...\n"
     ]
    },
    {
     "name": "stderr",
     "output_type": "stream",
     "text": [
      "Status 404: Endpoint /v1/users/51481825456/info/ does not exists\n"
     ]
    },
    {
     "name": "stdout",
     "output_type": "stream",
     "text": [
      "extracting 51454901668...\n",
      "extracting 50247939962...\n"
     ]
    },
    {
     "name": "stderr",
     "output_type": "stream",
     "text": [
      "Status 404: Endpoint /v1/users/51454901668/info/ does not exists\n"
     ]
    },
    {
     "name": "stdout",
     "output_type": "stream",
     "text": [
      "extracting 50141535652...\n",
      "extracting 47410583585...\n",
      "extracting 51682040098...\n",
      "extracting 51297643718...\n",
      "extracting 51648578804...\n",
      "extracting 51330016396...\n",
      "extracting 39240032666...\n",
      "extracting 11830955...\n",
      "extracting 51263654576...\n",
      "extracting 51313706083...\n",
      "extracting 48244211256...\n",
      "extracting 51481865557...\n"
     ]
    },
    {
     "name": "stderr",
     "output_type": "stream",
     "text": [
      "Status 404: Endpoint /v1/users/51263654576/info/ does not exists\n"
     ]
    },
    {
     "name": "stdout",
     "output_type": "stream",
     "text": [
      "extracting 39630270400...\n",
      "extracting 47281660056...\n",
      "extracting 51672632684...\n",
      "extracting 51613174726...\n",
      "extracting 430882651...\n",
      "extracting 51663321770...\n",
      "extracting 37509706620...\n",
      "extracting 51301019116...\n",
      "extracting 18249240834...\n",
      "extracting 3011518984...\n",
      "extracting 22390985847...\n",
      "extracting 51662977784...\n",
      "extracting 9028661105...\n",
      "extracting 42828157734...\n",
      "extracting 51444623632...\n",
      "extracting 51611342859...\n",
      "extracting 51656857360...\n",
      "extracting 51614350695...\n",
      "extracting 51633468945...\n",
      "extracting 4470011520...\n"
     ]
    }
   ],
   "source": [
    "\n",
    "with ThreadPoolExecutor() as TPE:\n",
    "    results = TPE.map(extract_user_info, client_data_units)"
   ]
  },
  {
   "cell_type": "code",
   "execution_count": null,
   "metadata": {},
   "outputs": [],
   "source": [
    "with open('scraped_info.txt', 'a') as f:\n",
    "    for result in results:\n",
    "        f.write('\\n'.join(result))"
   ]
  },
  {
   "cell_type": "code",
   "execution_count": null,
   "metadata": {},
   "outputs": [],
   "source": []
  }
 ],
 "metadata": {
  "interpreter": {
   "hash": "11f1dc213e07634baa4c5c321dec03c05dafae643c50f20e6d1a492290c05dc2"
  },
  "kernelspec": {
   "display_name": "Python 3.9.10 64-bit",
   "language": "python",
   "name": "python3"
  },
  "language_info": {
   "codemirror_mode": {
    "name": "ipython",
    "version": 3
   },
   "file_extension": ".py",
   "mimetype": "text/x-python",
   "name": "python",
   "nbconvert_exporter": "python",
   "pygments_lexer": "ipython3",
   "version": "3.9.10"
  },
  "orig_nbformat": 4
 },
 "nbformat": 4,
 "nbformat_minor": 2
}
