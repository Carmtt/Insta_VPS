{
 "cells": [
  {
   "cell_type": "code",
   "execution_count": null,
   "metadata": {},
   "outputs": [],
   "source": [
    "import requests"
   ]
  },
  {
   "cell_type": "code",
   "execution_count": null,
   "metadata": {},
   "outputs": [],
   "source": [
    "from instagrapi import Client"
   ]
  },
  {
   "cell_type": "code",
   "execution_count": null,
   "metadata": {},
   "outputs": [],
   "source": [
    "from concurrent.futures import ThreadPoolExecutor"
   ]
  },
  {
   "cell_type": "code",
   "execution_count": null,
   "metadata": {},
   "outputs": [],
   "source": [
    "proxy_to_acc = [\n",
    "    {\n",
    "        'proxy': '107.181.187.120:30642',\n",
    "        'email': 'karenshq5roberts@iralborz.bid',\n",
    "        'pswrd': 'WZOTieqa392'\n",
    "        },\n",
    "    {\n",
    "        'proxy': '107.181.187.120:30643',\n",
    "        'email': 'lauraxnnwtaylor@iralborz.bid',\n",
    "        'pswrd': 'IECOyhcs046'\n",
    "        },\n",
    "    {\n",
    "        'proxy': '107.181.187.120:30644',\n",
    "        'email': 'carolgemsmoore@iralborz.bid',\n",
    "        'pswrd': 'UEOEougz051'\n",
    "        },\n",
    "    {\n",
    "        'proxy': '107.181.187.120:30645',\n",
    "        'email': 'helens21pwilliams@iralborz.bid',\n",
    "        'pswrd': 'OPVEquat469'\n",
    "        },\n",
    "    {\n",
    "        'proxy': '107.181.187.120:30646',\n",
    "        'email': 'ronald6ixicollins@iralborz.bid',\n",
    "        'pswrd': 'IODEvooo748'\n",
    "        },\n",
    "    {\n",
    "        'proxy': '107.181.187.120:30647',\n",
    "        'email': 'donaldxlgtdavis@iralborz.bid',\n",
    "        'pswrd': 'YIRXloah034'\n",
    "        },\n",
    "    {\n",
    "        'proxy': '107.181.187.120:30648',\n",
    "        'email': 'barbaraxinojohnson@iralborz.bid',\n",
    "        'pswrd': 'ZUUJoviu881'\n",
    "        },\n",
    "    {\n",
    "        'proxy': '107.181.187.120:30649',\n",
    "        'email': 'paulwo6trobinson@iralborz.bid',\n",
    "        'pswrd': 'FXXKxdde764'\n",
    "        },\n",
    "    {\n",
    "        'proxy': '107.181.187.120:30650',\n",
    "        'email': 'jeffluz4harris@iralborz.bid',\n",
    "        'pswrd': 'QAMIauih271'\n",
    "        },\n",
    "    {\n",
    "        'proxy': '107.181.187.120:30651',\n",
    "        'email': 'kimberlywmiiwright@iralborz.bid',\n",
    "        'pswrd': 'YVWIeohp789'\n",
    "        },\n",
    "    {\n",
    "        'proxy': '107.181.187.120:30652',\n",
    "        'email': 'kimberlynw64harris@iralborz.bid',\n",
    "        'pswrd': 'LDGIiiaj303'\n",
    "        },\n",
    "    {\n",
    "        'proxy': '107.181.187.120:30653',\n",
    "        'email': 'brianvnqstaylor@iralborz.bid',\n",
    "        'pswrd': 'WIVAfimt523'\n",
    "        },\n",
    "    {\n",
    "        'proxy': '107.181.187.120:30654',\n",
    "        'email': 'helen11y3thomas@iralborz.bid',\n",
    "        'pswrd': 'ZOHLjtzz510'\n",
    "        },\n",
    "    {\n",
    "        'proxy': '107.181.187.120:30655',\n",
    "        'email': 'davidxoxtroberts@iralborz.bid',\n",
    "        'pswrd': 'ANUZaeue381'\n",
    "        },\n",
    "    {\n",
    "        'proxy': '107.181.187.120:30656',\n",
    "        'email': 'brianamtqharris@iralborz.bid',\n",
    "        'pswrd': 'BXQEoguw046'\n",
    "        },\n",
    "    {\n",
    "        'proxy': '107.181.187.120:30657',\n",
    "        'email': 'mariajic1martinez@iralborz.bid',\n",
    "        'pswrd': 'ENUAuivm405'\n",
    "        },\n",
    "    {\n",
    "        'proxy': '107.181.187.120:30658',\n",
    "        'email': 'maria00kdcampbell@iralborz.bid',\n",
    "        'pswrd': 'GTIEypcc689'\n",
    "        },\n",
    "    {\n",
    "        'proxy': '107.181.187.120:30659',\n",
    "        'email': 'michaelr0dxcampbell@iralborz.bid',\n",
    "        'pswrd': 'UCIOepua271'\n",
    "        },\n",
    "    {\n",
    "        'proxy': '107.181.187.120:30660',\n",
    "        'email': 'michael6c0jcollins@iralborz.bid',\n",
    "        'pswrd': 'DTUAwlol183'\n",
    "        },\n",
    "    {\n",
    "        'proxy': '107.181.187.120:30661',\n",
    "        'email': 'sandrahilgmoore@iralborz.bid',\n",
    "        'pswrd': 'IAADiexu660'\n",
    "        }\n",
    "]"
   ]
  },
  {
   "cell_type": "code",
   "execution_count": null,
   "metadata": {},
   "outputs": [],
   "source": [
    "clients = [ {'client': Client(), 'attr': proxy } for proxy in proxy_to_acc ]\n",
    "clients"
   ]
  },
  {
   "cell_type": "code",
   "execution_count": null,
   "metadata": {},
   "outputs": [],
   "source": [
    "\n",
    "success_Clients = []\n"
   ]
  },
  {
   "cell_type": "code",
   "execution_count": null,
   "metadata": {},
   "outputs": [],
   "source": [
    "\n",
    "def set_proxy_and_login(client):\n",
    "    print('trying...', client['attr']['proxy'])\n",
    "    if str(client['attr']['proxy'])[-3:] in ['645', '653', '650', '647', '657', '659', '646', '651', '654']: return\n",
    "    try:\n",
    "        client['client'].set_proxy(client['attr']['proxy'])\n",
    "        client['client'].login(client['attr']['email'], client['attr']['pswrd'])#, True, 'Ru.kr')\n",
    "        success_Clients.append(client)\n",
    "        print(client['attr']['proxy'], 'successful')\n",
    "    except: print(client['attr']['proxy'], 'failed')\n",
    "\n",
    "with ThreadPoolExecutor(max_workers=20) as TPE:\n",
    "    TPE.map(set_proxy_and_login, clients)\n"
   ]
  },
  {
   "cell_type": "code",
   "execution_count": null,
   "metadata": {},
   "outputs": [],
   "source": [
    "len(success_Clients)"
   ]
  },
  {
   "cell_type": "code",
   "execution_count": null,
   "metadata": {},
   "outputs": [],
   "source": [
    "print([sc['attr']['proxy'][-3:] for sc in success_Clients])"
   ]
  },
  {
   "cell_type": "code",
   "execution_count": null,
   "metadata": {},
   "outputs": [],
   "source": [
    "success_Clients = []\n"
   ]
  },
  {
   "cell_type": "code",
   "execution_count": null,
   "metadata": {},
   "outputs": [],
   "source": [
    "\n",
    "for client in clients:\n",
    "    print('trying...', client['attr']['proxy'])\n",
    "    if str(client['attr']['proxy'])[-3:] in ['645', '653', '650', '647', '657', '659', '646', '651', '654']: continue\n",
    "    try:\n",
    "        client['client'].set_proxy(client['attr']['proxy'])\n",
    "        print(client['client'].login(client['attr']['email'], client['attr']['pswrd']))#, True, 'Ru.kr'))\n",
    "        success_Clients.append(client)\n",
    "        print(client['attr']['proxy'], 'successful')\n",
    "            \n",
    "    except: print(client['attr']['proxy'], 'failed')\n"
   ]
  },
  {
   "cell_type": "code",
   "execution_count": null,
   "metadata": {},
   "outputs": [],
   "source": [
    "len(success_Clients)"
   ]
  },
  {
   "cell_type": "code",
   "execution_count": null,
   "metadata": {},
   "outputs": [],
   "source": [
    "acc_Ids = ['173560420', '12281817', '427553890', '232192182', '460563723', '7719696', '18428658', '247944034', '6860189', '208560325', '6380930', '787132', '11830955', '13460080', '305701719', '110567', '451573056', '26669533', '145821237', '325734299', '407964088', '6590609', '9777455', '189393625', '1436859892', '25945306', '18918467', '19410587', '290023231', '260375673', '29394004', '14455831', '28527810', '1269788896', '1287006597', '12331195', '528817151', '178537482', '20788692', '8012033210', '12995776', '217867189', '3416684', '186904952', '296102572', '243103112', '779085683', '1574083', '212742998']\n",
    "to_be_scraped = []"
   ]
  },
  {
   "cell_type": "code",
   "execution_count": null,
   "metadata": {},
   "outputs": [],
   "source": [
    "success_Clients[0]['client'].user_info(acc_Ids[0])"
   ]
  },
  {
   "cell_type": "code",
   "execution_count": null,
   "metadata": {},
   "outputs": [],
   "source": [
    "with open('temp.txt') as f: acc_Ids = f.read().split('\\n')\n",
    "len(acc_Ids)\n",
    "to_be_scraped = acc_Ids"
   ]
  },
  {
   "cell_type": "code",
   "execution_count": null,
   "metadata": {},
   "outputs": [],
   "source": [
    "def user_Ids():\n",
    "    j=0\n",
    "    def extract(i_cl):\n",
    "        try:\n",
    "            # print(user_Info, end='\\n\\n\\n')\n",
    "            followers = i_cl[1]['client'].user_followers(to_be_scraped[i_cl[0]+j], amount=1)\n",
    "            # print(followers)\n",
    "            try:\n",
    "                with open('temp.txt', 'a') as f: f.write('\\n#:#:#'.join(list(followers))+'\\n')\n",
    "            except:pass\n",
    "            to_be_scraped.extend(followers)\n",
    "        except: pass\n",
    "\n",
    "\n",
    "    # for i, client in enumerate(success_Clients):\n",
    "    while j < len(to_be_scraped):\n",
    "        with ThreadPoolExecutor() as TPE:\n",
    "            TPE.map(extract, enumerate(success_Clients))\n",
    "        # print(to_be_scraped)\n",
    "        j+=len(success_Clients)\n",
    "\n",
    "\n",
    "def user_Info():\n",
    "    sc = 0\n",
    "    for acc in to_be_scraped:\n",
    "        try:\n",
    "            user_Info = success_Clients[sc%len(success_Clients)]['client'].user_info(acc)\n",
    "            with open('data.txt', 'a') as f: f.write('#:#:#'.join(user_Info.values())+'\\n')\n",
    "        except:pass\n",
    "        finally: sc+=1"
   ]
  },
  {
   "cell_type": "code",
   "execution_count": null,
   "metadata": {},
   "outputs": [],
   "source": [
    "from threading import Thread\n",
    "thrd_1 = Thread(target=user_Info)\n",
    "thrd_2 = Thread(target=user_Ids)\n",
    "thrd_1.start()\n",
    "thrd_2.start()\n",
    "thrd_1.join()\n",
    "thrd_2.join()"
   ]
  },
  {
   "cell_type": "code",
   "execution_count": null,
   "metadata": {},
   "outputs": [],
   "source": [
    "fields = ['account_type', 'pk', 'username', 'full_name', 'is_private', 'follower_count', 'following_count', 'is_business', 'public_email', 'contact_phone_number', 'business_contact_method', 'business_category_name', 'category_name', 'biography']"
   ]
  },
  {
   "cell_type": "code",
   "execution_count": null,
   "metadata": {},
   "outputs": [],
   "source": [
    "with open('temp.txt') as f: data = f.read()"
   ]
  },
  {
   "cell_type": "code",
   "execution_count": null,
   "metadata": {},
   "outputs": [],
   "source": [
    "to_be_scraped = list(set(data.split('\\n')+acc_Ids))"
   ]
  },
  {
   "cell_type": "code",
   "execution_count": null,
   "metadata": {},
   "outputs": [],
   "source": [
    "len(to_be_scraped)"
   ]
  },
  {
   "cell_type": "code",
   "execution_count": null,
   "metadata": {},
   "outputs": [],
   "source": [
    "dataCount = len(to_be_scraped)\n",
    "max_workers = 500\n",
    "clients = success_Clients * (max_workers // len(success_Clients) + 1)\n",
    "fields : list = ['account_type', 'pk', 'username', 'full_name', 'is_private', 'follower_count', 'following_count', 'is_business', 'public_email', 'contact_phone_number', 'business_contact_method', 'business_category_name', 'category_name']"
   ]
  },
  {
   "cell_type": "code",
   "execution_count": null,
   "metadata": {},
   "outputs": [],
   "source": [
    "client_data_units = []\n",
    "dataPerWorker = dataCount//max_workers+1\n",
    "\n",
    "for i in range(max_workers):\n",
    "    client_data_units.append((\n",
    "        success_Clients[i%len(success_Clients)]['client'],\n",
    "        to_be_scraped[dataPerWorker*i : dataPerWorker*(i+1)]\n",
    "        ))"
   ]
  },
  {
   "cell_type": "code",
   "execution_count": null,
   "metadata": {},
   "outputs": [],
   "source": [
    "from time import sleep\n",
    "from random import randint\n",
    "f = open('userdata.txt', 'a')\n",
    "\n",
    "def extract_user_info(client__user_Ids):\n",
    "    users_data = []\n",
    "    try:\n",
    "        for i, user_ID in enumerate(client__user_Ids[1]):\n",
    "            try:\n",
    "                print(f'extracting {user_ID}...')\n",
    "                data = client__user_Ids[0].user_info(user_ID)\n",
    "                try:users_data.append(data)\n",
    "                except:pass\n",
    "                finalD = [data.get(field, '') for field in fields]\n",
    "                print(f'writing {user_ID}...')\n",
    "                f.write(','.join(finalD) + '\\n')\n",
    "                print('done')\n",
    "                \n",
    "                if i%50 and i:\n",
    "                    print('sleeping')\n",
    "                    sleep(randint(0,5))\n",
    "            except: pass\n",
    "        \n",
    "        return users_data\n",
    "    except: return users_data"
   ]
  },
  {
   "cell_type": "code",
   "execution_count": null,
   "metadata": {},
   "outputs": [],
   "source": [
    "\n",
    "with ThreadPoolExecutor() as TPE:\n",
    "    results = TPE.map(extract_user_info, client_data_units)"
   ]
  },
  {
   "cell_type": "code",
   "execution_count": null,
   "metadata": {},
   "outputs": [],
   "source": [
    "with open('scraped_info.txt', 'a') as f:\n",
    "    for result in results:\n",
    "        f.write('\\n'.join(result))"
   ]
  },
  {
   "cell_type": "code",
   "execution_count": null,
   "metadata": {},
   "outputs": [],
   "source": []
  }
 ],
 "metadata": {
  "interpreter": {
   "hash": "11f1dc213e07634baa4c5c321dec03c05dafae643c50f20e6d1a492290c05dc2"
  },
  "kernelspec": {
   "display_name": "Python 3.9.10 64-bit",
   "language": "python",
   "name": "python3"
  },
  "language_info": {
   "codemirror_mode": {
    "name": "ipython",
    "version": 3
   },
   "file_extension": ".py",
   "mimetype": "text/x-python",
   "name": "python",
   "nbconvert_exporter": "python",
   "pygments_lexer": "ipython3",
   "version": "3.9.10"
  },
  "orig_nbformat": 4
 },
 "nbformat": 4,
 "nbformat_minor": 2
}
